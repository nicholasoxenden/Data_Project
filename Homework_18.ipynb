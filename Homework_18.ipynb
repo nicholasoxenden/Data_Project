{
 "cells": [
  {
   "cell_type": "code",
   "execution_count": 11,
   "metadata": {},
   "outputs": [],
   "source": [
    "import math\n",
    "import scipy.stats as st\n",
    "import pandas as pd\n",
    "import numpy as np"
   ]
  },
  {
   "cell_type": "code",
   "execution_count": 2,
   "metadata": {},
   "outputs": [],
   "source": [
    "# Works!\n",
    "\n",
    "def diff_two_sided_hypothesis_test(xbar1,xbar0,u1,u0,stdev1,stdev0,n1,n0,a):\n",
    "    test_statistic = ((xbar1 - xbar0) - (u1 - u0)) / (math.sqrt((((stdev0**2) / n0) + ((stdev1**2) / n1))))\n",
    "    critical_val = st.norm.ppf(q=(a/2))\n",
    "    bool_val = abs(test_statistic) > abs(critical_val)\n",
    "    if bool_val == True:\n",
    "        print('Reject the null hypothesis.')\n",
    "    if bool_val == False:\n",
    "        print('Fail to reject the null hypothesis')\n",
    "    else:\n",
    "        pass\n",
    "    \n",
    "    p_val = 0\n",
    "    \n",
    "    if test_statistic < 0:\n",
    "        p_val = (2 * st.norm.cdf(test_statistic))\n",
    "    if test_statistic > 0:\n",
    "        p_val = (2 * (1 - st.norm.cdf(test_statistic)))\n",
    "    else:\n",
    "        print('Houston, we have a problem')\n",
    "    print(f'Critical Values: {-abs(critical_val)}, {abs(critical_val)}')\n",
    "    print(f'Test Statistic: {test_statistic}')\n",
    "    print(f'P value: {p_val}')"
   ]
  },
  {
   "cell_type": "code",
   "execution_count": 3,
   "metadata": {},
   "outputs": [],
   "source": [
    "# Might work!\n",
    "\n",
    "def bernouli_one_sided_hypothesis_test(p_hat,p,n,a):\n",
    "    \n",
    "    test_statistic = (p_hat - p) / (math.sqrt(((p * (1-p)) / (n))))\n",
    "    critical_val = st.norm.ppf(q=a)\n",
    "    bool_val = abs(test_statistic) > abs(critical_val)\n",
    "    \n",
    "    p_val = 0\n",
    "    \n",
    "    if test_statistic < 0:\n",
    "        p_val = (st.norm.cdf(test_statistic))\n",
    "    if test_statistic > 0:\n",
    "        p_val = ((1 - st.norm.cdf(test_statistic)))\n",
    "        critical_val = abs(critical_val)\n",
    "    else:\n",
    "        print('Houston, we have a problem')    \n",
    "   \n",
    "    print(f'Test Statistic: {test_statistic}')\n",
    "    print(f'Critical Value: {critical_val}')\n",
    "    print(f'P Value: {p_val}')\n",
    "    if bool_val == True:\n",
    "        print('Reject the null hypothesis')\n",
    "    else:\n",
    "        print('Fail to reject the null hypothesis')\n",
    "\n",
    "def diff_bernouli_two_sided_hypothesis_test(p_hat1,p_hat0,p1,p0,n1,n0,a):\n",
    "    test_statistic = ((p_hat1-p_hat0) - (p1 - p0)) / math.sqrt((((p_hat1 * (1-p_hat1)) / n1) + ((p_hat0 * (1-p_hat0)) / n0)))\n",
    "    critical_val = st.norm.ppf(q=(a/2))\n",
    "    bool_val = abs(test_statistic) > abs(critical_val)\n",
    "    if bool_val == True:\n",
    "        print('Reject the null hypothesis.')\n",
    "    if bool_val == False:\n",
    "        print('Fail to reject the null hypothesis')\n",
    "    else:\n",
    "        pass\n",
    "    \n",
    "    p_val = 0\n",
    "    \n",
    "    if test_statistic < 0:\n",
    "        p_val = (2 * st.norm.cdf(test_statistic))\n",
    "    if test_statistic > 0:\n",
    "        p_val = (2 * (1 - st.norm.cdf(test_statistic)))\n",
    "    else:\n",
    "        print('Houston, we have a problem')\n",
    "    print(f'Critical Values: {critical_val}')\n",
    "    print(f'Test Statistic: {test_statistic}')\n",
    "    print(f'P value: {p_val}')\n",
    "    \n",
    "def bernouli_confidence_interval(cl,p_hat,n):\n",
    "    z = abs(st.norm.ppf((1-cl)/2))\n",
    "    interval_0 = p_hat - (z * (math.sqrt(((p_hat * (1-p_hat)) / n))))\n",
    "    interval_1 = p_hat + (z * (math.sqrt(((p_hat * (1-p_hat)) / n))))\n",
    "    print(f'{cl}% Confidence Interval')\n",
    "    print(f'[{interval_0}, {interval_1}]')\n",
    "\n",
    "def diff_bernouli_confidence_interval(cl,p_hat1,p_hat0,n1,n0):\n",
    "    z = abs(st.norm.ppf((1-cl)/2))\n",
    "    interval_0 = (p_hat1 - p_hat0) - (z * (math.sqrt((((p_hat1 * (1-p_hat1)) / n1) + ((p_hat0 * (1-p_hat0))/ n0)))))\n",
    "    interval_1 = (p_hat1 - p_hat0) + (z * (math.sqrt((((p_hat1 * (1-p_hat1)) / n1) + ((p_hat0 * (1-p_hat0))/ n0)))))\n",
    "    print(f'{cl}% Confidence Interval')\n",
    "    print(f'[{interval_0}, {interval_1}]')\n",
    "    \n",
    "def bernouli_moe(cl,p_hat,n):\n",
    "    z = abs(st.norm.ppf((1-cl)/2))\n",
    "    std_err = math.sqrt((((p_hat) * (1-p_hat)) / n))\n",
    "    moe = z * std_err\n",
    "    print(f'MOE: {moe}')\n",
    "    \n",
    "def diff_bernouli_one_sided_hypothesis_test(p_hat1,p_hat0,p1,p0,n1,n0,a):\n",
    "    test_statistic = ((p_hat1-p_hat0) - (p1 - p0)) / math.sqrt((((p_hat1 * (1-p_hat1)) / n1) + ((p_hat0 * (1-p_hat0)) / n0)))\n",
    "    critical_val = st.norm.ppf(q=a)\n",
    "    bool_val = abs(test_statistic) > abs(critical_val)\n",
    "    \n",
    "    p_val = 0\n",
    "    \n",
    "    if test_statistic < 0:\n",
    "        p_val = (st.norm.cdf(test_statistic))\n",
    "    if test_statistic > 0:\n",
    "        p_val = ((1 - st.norm.cdf(test_statistic)))\n",
    "        critical_val = abs(critical_val)\n",
    "    else:\n",
    "        print('Houston, we have a problem')    \n",
    "   \n",
    "    print(f'Test Statistic: {test_statistic}')\n",
    "    print(f'Critical Value: {critical_val}')\n",
    "    print(f'P Value: {p_val}')\n",
    "    if bool_val == True:\n",
    "        print('Reject the null hypothesis')\n",
    "    else:\n",
    "        print('Fail to reject the null hypothesis')"
   ]
  },
  {
   "cell_type": "code",
   "execution_count": 4,
   "metadata": {},
   "outputs": [
    {
     "name": "stdout",
     "output_type": "stream",
     "text": [
      "Reject the null hypothesis.\n",
      "Critical Values: -1.6448536269514729, 1.6448536269514729\n",
      "Test Statistic: 5.237229365663817\n",
      "P value: 1.630050687762008e-07\n"
     ]
    }
   ],
   "source": [
    "# 1\n",
    "\n",
    "diff_two_sided_hypothesis_test(118,109,0,0,(102**(1/2)),(87**(1/2)),64,64,.1)"
   ]
  },
  {
   "cell_type": "code",
   "execution_count": 5,
   "metadata": {},
   "outputs": [
    {
     "name": "stdout",
     "output_type": "stream",
     "text": [
      "0.95% Confidence Interval\n",
      "[0.7543252198912803, 0.8056747801087197]\n"
     ]
    }
   ],
   "source": [
    "# 2\n",
    "bernouli_confidence_interval(.95,.78,1000)"
   ]
  },
  {
   "cell_type": "code",
   "execution_count": 6,
   "metadata": {},
   "outputs": [
    {
     "name": "stdout",
     "output_type": "stream",
     "text": [
      "0.98% Confidence Interval\n",
      "[-0.05705945796658034, 0.17705945796658035]\n"
     ]
    }
   ],
   "source": [
    "# 3\n",
    "diff_bernouli_confidence_interval(.98,.18,.12,100,100)"
   ]
  },
  {
   "cell_type": "code",
   "execution_count": 7,
   "metadata": {},
   "outputs": [
    {
     "name": "stdout",
     "output_type": "stream",
     "text": [
      "MOE: 0.045036543576594534\n",
      "None\n",
      "Test Statistic: 0.9428090415820628\n",
      "Critical Value: 1.6448536269514729\n",
      "P Value: 0.17288929307558032\n",
      "Fail to reject the null hypothesis\n"
     ]
    }
   ],
   "source": [
    "# 7 a\n",
    "print(bernouli_moe(.95,.12,200))\n",
    "\n",
    "# 7 b\n",
    "bernouli_one_sided_hypothesis_test(.12,.1,200,.05)"
   ]
  },
  {
   "cell_type": "code",
   "execution_count": 8,
   "metadata": {
    "scrolled": true
   },
   "outputs": [
    {
     "name": "stdout",
     "output_type": "stream",
     "text": [
      "Test Statistic: 1.3884693817633345\n",
      "Critical Value: 2.3263478740408408\n",
      "P Value: 0.08249708097129616\n",
      "Fail to reject the null hypothesis\n"
     ]
    }
   ],
   "source": [
    "# 8\n",
    "diff_bernouli_one_sided_hypothesis_test((98/260),(34/112),0,0,260,112,.01)"
   ]
  },
  {
   "cell_type": "code",
   "execution_count": 15,
   "metadata": {},
   "outputs": [],
   "source": [
    "### Data Project ####\n",
    "df = pd.read_excel(r'FINAL_2020_wjp_rule_of_law_index_HISTORICAL_DATA_FILE copy.xlsx', sheet_name = \"Cleanest Data\")\n",
    "df2 = pd.read_excel(r'FINAL_2020_wjp_rule_of_law_index_HISTORICAL_DATA_FILE copy.xlsx', sheet_name=\"Subgroups\")\n",
    "quant_list_corruption = df['Factor 2: Absence of Corruption']\n",
    "corruption_arr = np.array(quant_list_corruption)\n",
    "quant_list_openg = df['Factor 3: Open Government']\n",
    "openg_arr = np.array(quant_list_openg)\n",
    "corruption_if_gov_open = np.array(df2['Factor 2: Absence of Corruption 1'])\n",
    "corruption_if_gov_not_open = np.array(df2['Factor 2: Absence of Corruption 0'])\n",
    "corruption_if_gov_not_open = corruption_if_gov_not_open[~np.isnan(corruption_if_gov_not_open)]"
   ]
  },
  {
   "cell_type": "code",
   "execution_count": 16,
   "metadata": {},
   "outputs": [
    {
     "name": "stdout",
     "output_type": "stream",
     "text": [
      "Xbar1: 0.6120782247067618\n",
      "Xbar0: 0.41537768550966775\n",
      "S1: 0.18514485572730968\n",
      "S0: 0.11428980714074742\n",
      "n1: 65\n",
      "n0: 63\n",
      "\n",
      "0.95% Confidence Interval\n",
      "[0.14357505752329, 0.24982602087089803]\n"
     ]
    }
   ],
   "source": [
    "### Part 2 Question 4 a ###\n",
    "\n",
    "def confidence_interval(data1,data0,cl):\n",
    "    \n",
    "    xbar1 = data1.mean()\n",
    "    xbar0 = data0.mean()\n",
    "    s1 = data1.std()\n",
    "    s0 = data0.std()\n",
    "    n1 = len(data1)\n",
    "    n0 = len(data0)\n",
    "    \n",
    "    print(f'Xbar1: {xbar1}')\n",
    "    print(f'Xbar0: {xbar0}')\n",
    "    print(f'S1: {s1}')\n",
    "    print(f'S0: {s0}')\n",
    "    print(f'n1: {n1}')\n",
    "    print(f'n0: {n0}')\n",
    "    \n",
    "    z = abs(st.norm.ppf((1-cl)/2))\n",
    "    \n",
    "    interval_0 = (xbar1-xbar0) - (z * (math.sqrt(((s1**2)/n1) + ((s0**2)/n0))))\n",
    "    interval_1 = (xbar1-xbar0) + (z * (math.sqrt(((s1**2)/n1) + ((s0**2)/n0))))\n",
    "    print('')\n",
    "    print(f'{cl}% Confidence Interval')\n",
    "    print(f'[{interval_0}, {interval_1}]')\n",
    "    \n",
    "confidence_interval(corruption_if_gov_open,corruption_if_gov_not_open,.95)"
   ]
  },
  {
   "cell_type": "code",
   "execution_count": 17,
   "metadata": {},
   "outputs": [
    {
     "name": "stdout",
     "output_type": "stream",
     "text": [
      "Null Hypothesis: u1 - u0 = 0\n",
      "Alternate Hypothesis: u1 - u0 does not equal 0\n",
      "Xbar1: 0.6120782247067618\n",
      "Xbar0: 0.41537768550966775\n",
      "S1: 0.18514485572730968\n",
      "S0: 0.11428980714074742\n",
      "n1: 65\n",
      "n0: 63\n",
      "Critical Values: -1.6448536269514729, 1.6448536269514729\n",
      "Test Statistic: 5.264502740929246\n",
      "Reject the null hypothesis.\n",
      "P value: 1.4056930264239043e-07\n"
     ]
    }
   ],
   "source": [
    "### Part 2 Question 4 b ###\n",
    "\n",
    "def two_sided_diff_means_hypothesis_test(data1,data0,u1,u0,a):\n",
    "    \n",
    "    print('Null Hypothesis: u1 - u0 = 0')\n",
    "    print('Alternate Hypothesis: u1 - u0 does not equal 0')\n",
    "    \n",
    "    xbar1 = data1.mean()\n",
    "    xbar0 = data0.mean()\n",
    "    s1 = data1.std()\n",
    "    s0 = data0.std()\n",
    "    n1 = len(data1)\n",
    "    n0 = len(data0)\n",
    "    \n",
    "    print(f'Xbar1: {xbar1}')\n",
    "    print(f'Xbar0: {xbar0}')\n",
    "    print(f'S1: {s1}')\n",
    "    print(f'S0: {s0}')\n",
    "    print(f'n1: {n1}')\n",
    "    print(f'n0: {n0}')\n",
    "    \n",
    "    test_statistic = (((xbar1 - xbar0) - (u1 - u0)) / ((((s1) / math.sqrt(n1)) + ((s0) / math.sqrt(n0)))))\n",
    "    critical_val = st.norm.ppf(q=(a/2))\n",
    "    \n",
    "    print(f'Critical Values: {-abs(critical_val)}, {abs(critical_val)}')\n",
    "    print(f'Test Statistic: {test_statistic}')\n",
    "    \n",
    "    bool_val = abs(test_statistic) > abs(critical_val)\n",
    "    \n",
    "    if bool_val == True:\n",
    "        print('Reject the null hypothesis.')\n",
    "    if bool_val == False:\n",
    "        print('Fail to reject the null hypothesis')\n",
    "    else:\n",
    "        pass\n",
    "    \n",
    "    p_val = 0\n",
    "    \n",
    "    if test_statistic < 0:\n",
    "        p_val = (2 * st.norm.cdf(test_statistic))\n",
    "    elif test_statistic > 0:\n",
    "        p_val = (2 * (1 - st.norm.cdf(test_statistic)))\n",
    "    else:\n",
    "        print('Houston, we have a problem')\n",
    "    \n",
    "    print(f'P value: {p_val}')\n",
    "    \n",
    "two_sided_diff_means_hypothesis_test(data1 = corruption_if_gov_open,data0=corruption_if_gov_not_open,u1=0,u0=0,a=.1)"
   ]
  },
  {
   "cell_type": "code",
   "execution_count": 18,
   "metadata": {},
   "outputs": [
    {
     "name": "stdout",
     "output_type": "stream",
     "text": [
      "Binary variable measures absence of corruption among open governments.\n",
      "Point Estimate of P: 0.5078125\n",
      "0.95% Confidence Interval\n",
      "[0.421204085230644, 0.594420914769356]\n"
     ]
    }
   ],
   "source": [
    "### Part 2 Question 3 a ###\n",
    "\n",
    "def bernouli_confidence_interval(df,cl):\n",
    "    \n",
    "    def point_estimate_p_hat(df):\n",
    "        bool_series = df[\"Open Government\"] == 1\n",
    "        p_hat = bool_series.sum() / len(bool_series)\n",
    "        return p_hat\n",
    "    \n",
    "    n = len(df[\"Open Government\"] == 1)\n",
    "    p_hat = point_estimate_p_hat(df)\n",
    "    \n",
    "    z = abs(st.norm.ppf((1-cl)/2))\n",
    "    interval_0 = p_hat - (z * (math.sqrt(((p_hat * (1-p_hat)) / n))))\n",
    "    interval_1 = p_hat + (z * (math.sqrt(((p_hat * (1-p_hat)) / n))))\n",
    "    \n",
    "    print(f'Binary variable measures absence of corruption among open governments.')\n",
    "    print(f'Point Estimate of P: {p_hat}')\n",
    "    print(f'{cl}% Confidence Interval')\n",
    "    print(f'[{interval_0}, {interval_1}]')\n",
    "bernouli_confidence_interval(df,.95)"
   ]
  },
  {
   "cell_type": "code",
   "execution_count": 19,
   "metadata": {},
   "outputs": [
    {
     "name": "stdout",
     "output_type": "stream",
     "text": [
      "Null Hypothesis: P = 0.4\n",
      "Alternate Hypothesis: P does not equal 0.4\n",
      "Point Estimate of P: 0.5078125\n",
      "Test Statistic: 2.4898230358802604\n",
      "Critical Values: -1.9599639845400545, 1.9599639845400545\n",
      "Reject the null hypothesis.\n",
      "P value: 0.012780671422852441\n"
     ]
    }
   ],
   "source": [
    "### Part 2 Question 3 b ###\n",
    "\n",
    "def bernouli_two_sided_hypothesis_test(df,p,a):\n",
    "    \n",
    "    print(f'Null Hypothesis: P = {p}')\n",
    "    print(f'Alternate Hypothesis: P does not equal {p}')\n",
    "    def point_estimate_p_hat(df):\n",
    "        bool_series = df[\"Open Government\"] == 1\n",
    "        p_hat = bool_series.sum() / len(bool_series)\n",
    "        return p_hat\n",
    "    \n",
    "    n = len(df[\"Open Government\"] == 1)\n",
    "    p_hat = point_estimate_p_hat(df)\n",
    "    \n",
    "    print(f'Point Estimate of P: {p_hat}')\n",
    "    \n",
    "    test_statistic = (p_hat - p) / (math.sqrt(((p * (1-p)) / (n))))\n",
    "    \n",
    "    print(f'Test Statistic: {test_statistic}')\n",
    "    \n",
    "    critical_val = st.norm.ppf(q=(a/2))\n",
    "    \n",
    "    print(f'Critical Values: {-abs(critical_val)}, {abs(critical_val)}')\n",
    "    \n",
    "    bool_val = abs(test_statistic) > abs(critical_val)\n",
    "    if bool_val == True:\n",
    "        print('Reject the null hypothesis.')\n",
    "    if bool_val == False:\n",
    "        print('Fail to reject the null hypothesis')\n",
    "    else:\n",
    "        pass\n",
    "    \n",
    "    p_val = 0\n",
    "    \n",
    "    if test_statistic < 0:\n",
    "        p_val = (2 * st.norm.cdf(test_statistic))\n",
    "    elif test_statistic > 0:\n",
    "        p_val = (2 * (1 - st.norm.cdf(test_statistic)))\n",
    "    else:\n",
    "        print('Houston, we have a problem')\n",
    "\n",
    "    print(f'P value: {p_val}')\n",
    "\n",
    "bernouli_two_sided_hypothesis_test(df,.4,.05)"
   ]
  },
  {
   "cell_type": "code",
   "execution_count": null,
   "metadata": {},
   "outputs": [],
   "source": []
  }
 ],
 "metadata": {
  "kernelspec": {
   "display_name": "Python 3",
   "language": "python",
   "name": "python3"
  },
  "language_info": {
   "codemirror_mode": {
    "name": "ipython",
    "version": 3
   },
   "file_extension": ".py",
   "mimetype": "text/x-python",
   "name": "python",
   "nbconvert_exporter": "python",
   "pygments_lexer": "ipython3",
   "version": "3.8.5"
  }
 },
 "nbformat": 4,
 "nbformat_minor": 4
}
