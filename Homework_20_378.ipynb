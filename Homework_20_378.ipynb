{
 "cells": [
  {
   "cell_type": "code",
   "execution_count": 1,
   "metadata": {},
   "outputs": [],
   "source": [
    "import numpy as np\n",
    "import math as mt\n",
    "import pandas as pd\n",
    "import matplotlib.pyplot as plt"
   ]
  },
  {
   "cell_type": "code",
   "execution_count": 2,
   "metadata": {},
   "outputs": [],
   "source": [
    "# Simpler Equations\n",
    "\n",
    "def regression_analysis(x_data,y_data):\n",
    "    \n",
    "    # X Data \n",
    "    \n",
    "    xbar = x_data.mean()\n",
    "    print(f'xbar: {xbar}')\n",
    "    sx2 = np.var(x_data,ddof=1)\n",
    "    print(f'sx2: {sx2}')\n",
    "    sx = np.std(x_data,ddof=1)\n",
    "    print(f'sx: {sx}')\n",
    "    Sxx = 0\n",
    "    for i in x_data:\n",
    "        Sxx += ((i - xbar)**2)\n",
    "    print(f'Sxx: {Sxx}')\n",
    "    \n",
    "    print('')\n",
    "    \n",
    "    # Y Data\n",
    "    \n",
    "    ybar = y_data.mean()\n",
    "    print(f'ybar: {ybar}')\n",
    "    sy2 = np.var(y_data,ddof=1)\n",
    "    print(f'sy2: {sy2}')\n",
    "    sy = np.std(y_data,ddof=1)\n",
    "    print(f'sy: {sy}')\n",
    "    Syy = 0\n",
    "    for i in y_data:\n",
    "        Syy += ((i - ybar)**2)\n",
    "    print(f'Syy: {Syy}')\n",
    "    print('')\n",
    "    \n",
    "    # X Y Data\n",
    "    \n",
    "    \n",
    "    xy = np.array([x,y])\n",
    "    sxy = np.cov(xy)[0][1]\n",
    "    \n",
    "    def Sxy(x_data,y_data):\n",
    "        \n",
    "        def merge(x_data, y_data):\n",
    "            new_arr = tuple(zip(x_data, y_data)) \n",
    "            return new_arr\n",
    "        \n",
    "        Sxy = 0\n",
    "        \n",
    "        for a,b in merge(x_data,y_data):\n",
    "            Sxy += ((a - xbar) * (b- ybar))\n",
    "        return Sxy\n",
    "    Sxy = Sxy(x_data,y_data)\n",
    "    print(f'Sxy: {Sxy}')\n",
    "    \n",
    "    def sxy(x_data,y_data):\n",
    "        \n",
    "        def merge(x_data, y_data):\n",
    "            new_arr = tuple(zip(x_data, y_data)) \n",
    "            return new_arr\n",
    "        \n",
    "        Sxy = 0\n",
    "        \n",
    "        for a,b in merge(x_data,y_data):\n",
    "            Sxy += ((a - xbar) * (b- ybar))\n",
    "        return ((1/(len(merge(x_data,y_data))-1)) * Sxy)\n",
    "    sxy = sxy(x_data,y_data)\n",
    "    print(f'sxy: {sxy}')\n",
    "    \n",
    "    def r(x_data,y_data):\n",
    "        sx = np.std(x_data,ddof=1)\n",
    "        sy = np.std(y_data,ddof=1)\n",
    "        r = ((sxy) / (sx * sy))\n",
    "        return r\n",
    "    r = r(x_data,y_data)\n",
    "    print(f'r: {r}')\n",
    "    print(f'r2: {r**2}')\n",
    "    \n",
    "    def b1(r,sy,sx):\n",
    "        return r * (sy / sx)\n",
    "    b1 = b1(r,sy,sx)\n",
    "    print(f'b1: {b1}')\n",
    "    \n",
    "    def b0(ybar,b1,xbar):\n",
    "        return ybar - (b1 * xbar)\n",
    "    b0 = b0(ybar,b1,xbar)\n",
    "    print(f'b0: {b0}')\n",
    "    \n",
    "    print('')\n",
    "    \n",
    "    def regression(x_data):\n",
    "        y_values = []\n",
    "        for i in x_data:\n",
    "            y_values.append((b0 + (b1 * i)))\n",
    "        y_val_arr = np.array(y_values)\n",
    "        \n",
    "        plt.figure(num = 2)\n",
    "        plt.plot(x_data,y_val_arr)\n",
    "        \n",
    "        def merge(x_data, y_val_arr):\n",
    "            new_arr = tuple(zip(x_data, y_val_arr)) \n",
    "            return new_arr\n",
    "        \n",
    "        return merge(x_data,y_val_arr)\n",
    "    print(f'Regression Y Values: {regression(x_data)}')\n",
    "    \n",
    "    plt.figure(num = 2,figsize=(12,6))\n",
    "    plt.scatter(x_data,y_data, marker = 'X', alpha = 1)\n",
    "    plt.xlabel('X Values',fontsize=15)\n",
    "    plt.ylabel('Y Values',fontsize=15)\n",
    "    plt.title('Regression Analysis',fontsize=20)\n",
    "    plt.show()\n",
    "    \n",
    "    print('')\n",
    "    \n",
    "    def error_terms(x_data,y_data):\n",
    "        def regression_y_values(x_data):\n",
    "            y_values = []\n",
    "            for i in x_data:\n",
    "                y_values.append((b0 + (b1 * i)))\n",
    "            y_val_arr = np.array(y_values)\n",
    "            return y_val_arr\n",
    "        error_terms = y_data - regression_y_values(x_data)\n",
    "        return error_terms\n",
    "    print(f'Error terms: {error_terms(x_data,y_data)}')\n",
    "    \n",
    "    def avg_error_term(x_data,y_data):\n",
    "        avg_error_term = error_terms(x_data,y_data).mean()\n",
    "        return avg_error_term\n",
    "    print(f'Average Error Term: {avg_error_term(x_data,y_data)}')\n",
    "    \n",
    "    def See(error_terms):\n",
    "        See = (error_terms**2).sum()\n",
    "        return See\n",
    "    print(f'See: {See(error_terms(x_data,y_data))}')\n",
    "    \n",
    "    def s2e(error_terms):\n",
    "        See = (error_terms**2).sum()\n",
    "        return (1/ (len(error_terms) - 2) * See)\n",
    "    print(f's2e: {s2e(error_terms(x_data,y_data))}')\n",
    "    print(f'se: {mt.sqrt(s2e(error_terms(x_data,y_data)))}')\n",
    "    \n"
   ]
  },
  {
   "cell_type": "code",
   "execution_count": 3,
   "metadata": {},
   "outputs": [
    {
     "name": "stdout",
     "output_type": "stream",
     "text": [
      "xbar: 15.0\n",
      "sx2: 7.0\n",
      "sx: 2.6457513110645907\n",
      "Sxx: 28.0\n",
      "\n",
      "ybar: 70.0\n",
      "sy2: 500.0\n",
      "sy: 22.360679774997898\n",
      "Syy: 2000.0\n",
      "\n",
      "Sxy: 230.0\n",
      "sxy: 57.5\n",
      "r: 0.971927392937794\n",
      "r2: 0.9446428571428569\n",
      "b1: 8.214285714285714\n",
      "b0: -53.21428571428571\n",
      "\n",
      "Regression Y Values: ((11, 37.14285714285714), (16, 78.21428571428571), (16, 78.21428571428571), (14, 61.78571428571428), (18, 94.64285714285712))\n"
     ]
    },
    {
     "data": {
      "image/png": "[encoded data removed]",
      "text/plain": [
       "<Figure size 432x288 with 1 Axes>"
      ]
     },
     "metadata": {
      "needs_background": "light"
     },
     "output_type": "display_data"
    },
    {
     "name": "stdout",
     "output_type": "stream",
     "text": [
      "\n",
      "Error terms: [ 2.85714286  1.78571429 -8.21428571 -1.78571429  5.35714286]\n",
      "Average Error Term: 8.526512829121202e-15\n",
      "See: 110.71428571428584\n",
      "s2e: 36.90476190476194\n",
      "se: 6.074928962939562\n"
     ]
    }
   ],
   "source": [
    "x = np.array([11,16,16,14,18])\n",
    "y = np.array([40,80,70,60,100])\n",
    "\n",
    "regression_analysis(x,y)"
   ]
  },
  {
   "cell_type": "code",
   "execution_count": 4,
   "metadata": {},
   "outputs": [
    {
     "name": "stdout",
     "output_type": "stream",
     "text": [
      "xbar: 3.0\n",
      "sx2: 2.5\n",
      "sx: 1.5811388300841898\n",
      "Sxx: 10.0\n",
      "\n",
      "ybar: 5.0\n",
      "sy2: 7.5\n",
      "sy: 2.7386127875258306\n",
      "Syy: 30.0\n",
      "\n",
      "Sxy: 10.0\n",
      "sxy: 2.5\n",
      "r: 0.5773502691896257\n",
      "r2: 0.3333333333333333\n",
      "b1: 0.9999999999999999\n",
      "b0: 2.0000000000000004\n",
      "\n",
      "Regression Y Values: ((1, 3.0000000000000004), (5, 7.0), (2, 4.0), (4, 6.0), (3, 5.0))\n"
     ]
    },
    {
     "data": {
      "image/png": "[encoded data removed]",
      "text/plain": [
       "<Figure size 432x288 with 1 Axes>"
      ]
     },
     "metadata": {
      "needs_background": "light"
     },
     "output_type": "display_data"
    },
    {
     "name": "stdout",
     "output_type": "stream",
     "text": [
      "\n",
      "Error terms: [-1. -1. -1. -1.  4.]\n",
      "Average Error Term: 0.0\n",
      "See: 20.0\n",
      "s2e: 6.666666666666666\n",
      "se: 2.581988897471611\n"
     ]
    }
   ],
   "source": [
    "a = np.array([1,5,2,4,3])\n",
    "b = np.array([2,6,3,5,9])\n",
    "\n",
    "regression_analysis(a,b)"
   ]
  },
  {
   "cell_type": "code",
   "execution_count": 5,
   "metadata": {},
   "outputs": [
    {
     "data": {
      "text/plain": [
       "\"\\n\\n# Equations\\n\\nx = np.array([11,16,16,14,18])\\ny = np.array([40,80,70,60,100])\\n\\ndef stat_analysis(x_data,y_data):\\n    \\n    # X Data \\n    \\n    xbar = x_data.mean()\\n    print(f'xbar: {xbar}')\\n    sx2 = np.var(x_data,ddof=1)\\n    print(f'sx2: {sx2}')\\n    sx = np.std(x_data,ddof=1)\\n    print(f'sx: {sx}')\\n    sxx = 0\\n    for i in x_data:\\n        sxx += ((i - xbar)**2)\\n    print(f'sxx: {sxx}')\\n    # Y Data\\n    \\n    ybar = y_data.mean()\\n    print(f'ybar: {ybar}')\\n    sy2 = np.var(y_data,ddof=1)\\n    print(f'sy2: {sy2}')\\n    sy = np.std(y_data,ddof=1)\\n    print(f'sy: {sy}')\\n    syy = 0\\n    for i in y_data:\\n        syy += ((i - ybar)**2)\\n    print(f'syy: {syy}')\\n    # X Y Data\\n    \\n    \\n    xy = np.array([x,y])\\n    sxy = np.cov(xy)[0][1]\\n    \\n    def sxy(x_data,y_data):\\n        \\n        def merge(x_data, y_data):\\n            new_arr = tuple(zip(x_data, y_data)) \\n            return new_arr\\n        \\n        Sxy = 0\\n        \\n        for a,b in merge(x_data,y_data):\\n            Sxy += ((a - 15) * (b- 70))\\n        return ((1/(len(merge(x_data,y_data))-1)) * Sxy)\\n    print(f'sxy: {sxy(x_data,y_data)}')\\n    \\n    def r(x_data,y_data):\\n        sx = np.std(x_data,ddof=1)\\n        sy = np.std(y_data,ddof=1)\\n        sxy1 = sxy(x_data,y_data)\\n        r = ((sxy1) / (sx * sy))\\n        return r\\n    print(f'r: {r(x_data,y_data)}')\\n    \\n    def r2(r):\\n        return r**2\\n    print(f'r2: {r2(r(x_data,y_data))}')\\n    \\n    def b1(r,sy,sx):\\n        return r * (sy / sx)\\n    print(f'b1: {b1(r(x_data,y_data),sy,sx)}')\\n    \\n    def b0(ybar,b1,xbar):\\n        return ybar - (b1 * xbar)\\n    print(f'b0: {b0(ybar,b1(r(x_data,y_data),sy,sx),xbar)}')\\n    \\n    def regression(x):\\n        \\n        return None\\n\""
      ]
     },
     "execution_count": 5,
     "metadata": {},
     "output_type": "execute_result"
    }
   ],
   "source": [
    "'''\n",
    "\n",
    "# Equations\n",
    "\n",
    "x = np.array([11,16,16,14,18])\n",
    "y = np.array([40,80,70,60,100])\n",
    "\n",
    "def stat_analysis(x_data,y_data):\n",
    "    \n",
    "    # X Data \n",
    "    \n",
    "    xbar = x_data.mean()\n",
    "    print(f'xbar: {xbar}')\n",
    "    sx2 = np.var(x_data,ddof=1)\n",
    "    print(f'sx2: {sx2}')\n",
    "    sx = np.std(x_data,ddof=1)\n",
    "    print(f'sx: {sx}')\n",
    "    sxx = 0\n",
    "    for i in x_data:\n",
    "        sxx += ((i - xbar)**2)\n",
    "    print(f'sxx: {sxx}')\n",
    "    # Y Data\n",
    "    \n",
    "    ybar = y_data.mean()\n",
    "    print(f'ybar: {ybar}')\n",
    "    sy2 = np.var(y_data,ddof=1)\n",
    "    print(f'sy2: {sy2}')\n",
    "    sy = np.std(y_data,ddof=1)\n",
    "    print(f'sy: {sy}')\n",
    "    syy = 0\n",
    "    for i in y_data:\n",
    "        syy += ((i - ybar)**2)\n",
    "    print(f'syy: {syy}')\n",
    "    # X Y Data\n",
    "    \n",
    "    \n",
    "    xy = np.array([x,y])\n",
    "    sxy = np.cov(xy)[0][1]\n",
    "    \n",
    "    def sxy(x_data,y_data):\n",
    "        \n",
    "        def merge(x_data, y_data):\n",
    "            new_arr = tuple(zip(x_data, y_data)) \n",
    "            return new_arr\n",
    "        \n",
    "        Sxy = 0\n",
    "        \n",
    "        for a,b in merge(x_data,y_data):\n",
    "            Sxy += ((a - 15) * (b- 70))\n",
    "        return ((1/(len(merge(x_data,y_data))-1)) * Sxy)\n",
    "    print(f'sxy: {sxy(x_data,y_data)}')\n",
    "    \n",
    "    def r(x_data,y_data):\n",
    "        sx = np.std(x_data,ddof=1)\n",
    "        sy = np.std(y_data,ddof=1)\n",
    "        sxy1 = sxy(x_data,y_data)\n",
    "        r = ((sxy1) / (sx * sy))\n",
    "        return r\n",
    "    print(f'r: {r(x_data,y_data)}')\n",
    "    \n",
    "    def r2(r):\n",
    "        return r**2\n",
    "    print(f'r2: {r2(r(x_data,y_data))}')\n",
    "    \n",
    "    def b1(r,sy,sx):\n",
    "        return r * (sy / sx)\n",
    "    print(f'b1: {b1(r(x_data,y_data),sy,sx)}')\n",
    "    \n",
    "    def b0(ybar,b1,xbar):\n",
    "        return ybar - (b1 * xbar)\n",
    "    print(f'b0: {b0(ybar,b1(r(x_data,y_data),sy,sx),xbar)}')\n",
    "    \n",
    "    def regression(x):\n",
    "        \n",
    "        return None\n",
    "'''"
   ]
  },
  {
   "cell_type": "code",
   "execution_count": 6,
   "metadata": {},
   "outputs": [
    {
     "data": {
      "text/plain": [
       "1.0007156392405063"
      ]
     },
     "execution_count": 6,
     "metadata": {},
     "output_type": "execute_result"
    }
   ],
   "source": [
    "(.57735) * (2.7386/1.58)"
   ]
  },
  {
   "cell_type": "code",
   "execution_count": null,
   "metadata": {},
   "outputs": [],
   "source": []
  }
 ],
 "metadata": {
  "kernelspec": {
   "display_name": "Python 3",
   "language": "python",
   "name": "python3"
  },
  "language_info": {
   "codemirror_mode": {
    "name": "ipython",
    "version": 3
   },
   "file_extension": ".py",
   "mimetype": "text/x-python",
   "name": "python",
   "nbconvert_exporter": "python",
   "pygments_lexer": "ipython3",
   "version": "3.8.5"
  }
 },
 "nbformat": 4,
 "nbformat_minor": 4
}
